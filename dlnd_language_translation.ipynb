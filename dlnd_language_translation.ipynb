{
 "cells": [
  {
   "cell_type": "markdown",
   "metadata": {
    "collapsed": true,
    "deletable": true,
    "editable": true
   },
   "source": [
    "# Language Translation\n",
    "In this project, you’re going to take a peek into the realm of neural network machine translation.  You’ll be training a sequence to sequence model on a dataset of English and French sentences that can translate new sentences from English to French.\n",
    "## Get the Data\n",
    "Since translating the whole language of English to French will take lots of time to train, we have provided you with a small portion of the English corpus."
   ]
  },
  {
   "cell_type": "code",
   "execution_count": 1,
   "metadata": {
    "collapsed": true,
    "deletable": true,
    "editable": true
   },
   "outputs": [],
   "source": [
    "\"\"\"\n",
    "DON'T MODIFY ANYTHING IN THIS CELL\n",
    "\"\"\"\n",
    "import helper\n",
    "import problem_unittests as tests\n",
    "\n",
    "source_path = 'data/small_vocab_en'\n",
    "target_path = 'data/small_vocab_fr'\n",
    "source_text = helper.load_data(source_path)\n",
    "target_text = helper.load_data(target_path)"
   ]
  },
  {
   "cell_type": "markdown",
   "metadata": {
    "deletable": true,
    "editable": true
   },
   "source": [
    "## Explore the Data\n",
    "Play around with view_sentence_range to view different parts of the data."
   ]
  },
  {
   "cell_type": "code",
   "execution_count": 2,
   "metadata": {
    "collapsed": false,
    "deletable": true,
    "editable": true
   },
   "outputs": [
    {
     "name": "stdout",
     "output_type": "stream",
     "text": [
      "Dataset Stats\n",
      "Roughly the number of unique words: 227\n",
      "Number of sentences: 137861\n",
      "Average number of words in a sentence: 13.225277634719028\n",
      "\n",
      "English sentences 0 to 10:\n",
      "new jersey is sometimes quiet during autumn , and it is snowy in april .\n",
      "the united states is usually chilly during july , and it is usually freezing in november .\n",
      "california is usually quiet during march , and it is usually hot in june .\n",
      "the united states is sometimes mild during june , and it is cold in september .\n",
      "your least liked fruit is the grape , but my least liked is the apple .\n",
      "his favorite fruit is the orange , but my favorite is the grape .\n",
      "paris is relaxing during december , but it is usually chilly in july .\n",
      "new jersey is busy during spring , and it is never hot in march .\n",
      "our least liked fruit is the lemon , but my least liked is the grape .\n",
      "the united states is sometimes busy during january , and it is sometimes warm in november .\n",
      "\n",
      "French sentences 0 to 10:\n",
      "new jersey est parfois calme pendant l' automne , et il est neigeux en avril .\n",
      "les états-unis est généralement froid en juillet , et il gèle habituellement en novembre .\n",
      "california est généralement calme en mars , et il est généralement chaud en juin .\n",
      "les états-unis est parfois légère en juin , et il fait froid en septembre .\n",
      "votre moins aimé fruit est le raisin , mais mon moins aimé est la pomme .\n",
      "son fruit préféré est l'orange , mais mon préféré est le raisin .\n",
      "paris est relaxant en décembre , mais il est généralement froid en juillet .\n",
      "new jersey est occupé au printemps , et il est jamais chaude en mars .\n",
      "notre fruit est moins aimé le citron , mais mon moins aimé est le raisin .\n",
      "les états-unis est parfois occupé en janvier , et il est parfois chaud en novembre .\n"
     ]
    }
   ],
   "source": [
    "view_sentence_range = (0, 10)\n",
    "\n",
    "\"\"\"\n",
    "DON'T MODIFY ANYTHING IN THIS CELL\n",
    "\"\"\"\n",
    "import numpy as np\n",
    "\n",
    "print('Dataset Stats')\n",
    "print('Roughly the number of unique words: {}'.format(len({word: None for word in source_text.split()})))\n",
    "\n",
    "sentences = source_text.split('\\n')\n",
    "word_counts = [len(sentence.split()) for sentence in sentences]\n",
    "print('Number of sentences: {}'.format(len(sentences)))\n",
    "print('Average number of words in a sentence: {}'.format(np.average(word_counts)))\n",
    "\n",
    "print()\n",
    "print('English sentences {} to {}:'.format(*view_sentence_range))\n",
    "print('\\n'.join(source_text.split('\\n')[view_sentence_range[0]:view_sentence_range[1]]))\n",
    "print()\n",
    "print('French sentences {} to {}:'.format(*view_sentence_range))\n",
    "print('\\n'.join(target_text.split('\\n')[view_sentence_range[0]:view_sentence_range[1]]))"
   ]
  },
  {
   "cell_type": "markdown",
   "metadata": {
    "deletable": true,
    "editable": true
   },
   "source": [
    "## Implement Preprocessing Function\n",
    "### Text to Word Ids\n",
    "As you did with other RNNs, you must turn the text into a number so the computer can understand it. In the function `text_to_ids()`, you'll turn `source_text` and `target_text` from words to ids.  However, you need to add the `<EOS>` word id at the end of `target_text`.  This will help the neural network predict when the sentence should end.\n",
    "\n",
    "You can get the `<EOS>` word id by doing:\n",
    "```python\n",
    "target_vocab_to_int['<EOS>']\n",
    "```\n",
    "You can get other word ids using `source_vocab_to_int` and `target_vocab_to_int`."
   ]
  },
  {
   "cell_type": "code",
   "execution_count": 3,
   "metadata": {
    "collapsed": false,
    "deletable": true,
    "editable": true
   },
   "outputs": [
    {
     "name": "stdout",
     "output_type": "stream",
     "text": [
      "Tests Passed\n"
     ]
    }
   ],
   "source": [
    "def text_to_ids(source_text, target_text, source_vocab_to_int, target_vocab_to_int):\n",
    "    \"\"\"\n",
    "    Convert source and target text to proper word ids\n",
    "    :param source_text: String that contains all the source text.\n",
    "    :param target_text: String that contains all the target text.\n",
    "    :param source_vocab_to_int: Dictionary to go from the source words to an id\n",
    "    :param target_vocab_to_int: Dictionary to go from the target words to an id\n",
    "    :return: A tuple of lists (source_id_text, target_id_text)\n",
    "    \"\"\"\n",
    "    # TODO: Implement Function\n",
    "    source_id_text = [\n",
    "        [source_vocab_to_int[word] for word in line.split()]\n",
    "        for line in source_text.split('\\n')]\n",
    "    target_id_text = [\n",
    "        [target_vocab_to_int[word] for word in line.split()] + [target_vocab_to_int['<EOS>']]\n",
    "        for line in target_text.split('\\n')]\n",
    "    return source_id_text, target_id_text\n",
    "\n",
    "\"\"\"\n",
    "DON'T MODIFY ANYTHING IN THIS CELL THAT IS BELOW THIS LINE\n",
    "\"\"\"\n",
    "tests.test_text_to_ids(text_to_ids)"
   ]
  },
  {
   "cell_type": "markdown",
   "metadata": {
    "deletable": true,
    "editable": true
   },
   "source": [
    "### Preprocess all the data and save it\n",
    "Running the code cell below will preprocess all the data and save it to file."
   ]
  },
  {
   "cell_type": "code",
   "execution_count": 4,
   "metadata": {
    "collapsed": true,
    "deletable": true,
    "editable": true
   },
   "outputs": [],
   "source": [
    "\"\"\"\n",
    "DON'T MODIFY ANYTHING IN THIS CELL\n",
    "\"\"\"\n",
    "helper.preprocess_and_save_data(source_path, target_path, text_to_ids)"
   ]
  },
  {
   "cell_type": "markdown",
   "metadata": {
    "deletable": true,
    "editable": true
   },
   "source": [
    "# Check Point\n",
    "This is your first checkpoint. If you ever decide to come back to this notebook or have to restart the notebook, you can start from here. The preprocessed data has been saved to disk."
   ]
  },
  {
   "cell_type": "code",
   "execution_count": 5,
   "metadata": {
    "collapsed": true,
    "deletable": true,
    "editable": true
   },
   "outputs": [],
   "source": [
    "\"\"\"\n",
    "DON'T MODIFY ANYTHING IN THIS CELL\n",
    "\"\"\"\n",
    "import numpy as np\n",
    "import helper\n",
    "import problem_unittests as tests\n",
    "\n",
    "(source_int_text, target_int_text), (source_vocab_to_int, target_vocab_to_int), _ = helper.load_preprocess()"
   ]
  },
  {
   "cell_type": "markdown",
   "metadata": {
    "deletable": true,
    "editable": true
   },
   "source": [
    "### Check the Version of TensorFlow and Access to GPU\n",
    "This will check to make sure you have the correct version of TensorFlow and access to a GPU"
   ]
  },
  {
   "cell_type": "code",
   "execution_count": 6,
   "metadata": {
    "collapsed": false,
    "deletable": true,
    "editable": true
   },
   "outputs": [
    {
     "name": "stdout",
     "output_type": "stream",
     "text": [
      "TensorFlow Version: 1.1.0\n",
      "Default GPU Device: /gpu:0\n"
     ]
    }
   ],
   "source": [
    "\"\"\"\n",
    "DON'T MODIFY ANYTHING IN THIS CELL\n",
    "\"\"\"\n",
    "from distutils.version import LooseVersion\n",
    "import warnings\n",
    "import tensorflow as tf\n",
    "from tensorflow.python.layers.core import Dense\n",
    "\n",
    "# Check TensorFlow Version\n",
    "assert LooseVersion(tf.__version__) >= LooseVersion('1.1'), 'Please use TensorFlow version 1.1 or newer'\n",
    "print('TensorFlow Version: {}'.format(tf.__version__))\n",
    "\n",
    "# Check for a GPU\n",
    "if not tf.test.gpu_device_name():\n",
    "    warnings.warn('No GPU found. Please use a GPU to train your neural network.')\n",
    "else:\n",
    "    print('Default GPU Device: {}'.format(tf.test.gpu_device_name()))"
   ]
  },
  {
   "cell_type": "markdown",
   "metadata": {
    "deletable": true,
    "editable": true
   },
   "source": [
    "## Build the Neural Network\n",
    "You'll build the components necessary to build a Sequence-to-Sequence model by implementing the following functions below:\n",
    "- `model_inputs`\n",
    "- `process_decoder_input`\n",
    "- `encoding_layer`\n",
    "- `decoding_layer_train`\n",
    "- `decoding_layer_infer`\n",
    "- `decoding_layer`\n",
    "- `seq2seq_model`\n",
    "\n",
    "### Input\n",
    "Implement the `model_inputs()` function to create TF Placeholders for the Neural Network. It should create the following placeholders:\n",
    "\n",
    "- Input text placeholder named \"input\" using the TF Placeholder name parameter with rank 2.\n",
    "- Targets placeholder with rank 2.\n",
    "- Learning rate placeholder with rank 0.\n",
    "- Keep probability placeholder named \"keep_prob\" using the TF Placeholder name parameter with rank 0.\n",
    "- Target sequence length placeholder named \"target_sequence_length\" with rank 1\n",
    "- Max target sequence length tensor named \"max_target_len\" getting its value from applying tf.reduce_max on the target_sequence_length placeholder. Rank 0.\n",
    "- Source sequence length placeholder named \"source_sequence_length\" with rank 1\n",
    "\n",
    "Return the placeholders in the following the tuple (input, targets, learning rate, keep probability, target sequence length, max target sequence length, source sequence length)"
   ]
  },
  {
   "cell_type": "code",
   "execution_count": 7,
   "metadata": {
    "collapsed": false,
    "deletable": true,
    "editable": true
   },
   "outputs": [
    {
     "name": "stdout",
     "output_type": "stream",
     "text": [
      "Tests Passed\n"
     ]
    }
   ],
   "source": [
    "def model_inputs():\n",
    "    \"\"\"\n",
    "    Create TF Placeholders for input, targets, learning rate, and lengths of source and target sequences.\n",
    "    :return: Tuple (input, targets, learning rate, keep probability, target sequence length,\n",
    "    max target sequence length, source sequence length)\n",
    "    \"\"\"\n",
    "    # TODO: Implement Function\n",
    "    input = tf.placeholder(tf.int32, shape=(None, None), name='input')\n",
    "    targets = tf.placeholder(tf.int32, shape=(None, None), name='target')\n",
    "    lr = tf.placeholder(tf.float32, shape=None, name='learning_rate')\n",
    "    keep_prob = tf.placeholder(tf.float32, shape=None, name='keep_prob')\n",
    "    target_seq_len = tf.placeholder(tf.int32, shape=(None,), name='target_sequence_length')\n",
    "    max_target_seq_len = tf.reduce_max(target_seq_len, name='max_target_len')\n",
    "    source_seq_len = tf.placeholder(tf.int32, shape=(None,), name='source_sequence_length')\n",
    "    \n",
    "    return input, targets, lr, keep_prob, target_seq_len, max_target_seq_len, source_seq_len\n",
    "    \n",
    "\n",
    "\n",
    "\"\"\"\n",
    "DON'T MODIFY ANYTHING IN THIS CELL THAT IS BELOW THIS LINE\n",
    "\"\"\"\n",
    "tests.test_model_inputs(model_inputs)"
   ]
  },
  {
   "cell_type": "markdown",
   "metadata": {
    "deletable": true,
    "editable": true
   },
   "source": [
    "### Process Decoder Input\n",
    "Implement `process_decoder_input` by removing the last word id from each batch in `target_data` and concat the GO ID to the begining of each batch."
   ]
  },
  {
   "cell_type": "code",
   "execution_count": 8,
   "metadata": {
    "collapsed": false,
    "deletable": true,
    "editable": true
   },
   "outputs": [
    {
     "name": "stdout",
     "output_type": "stream",
     "text": [
      "Tests Passed\n"
     ]
    }
   ],
   "source": [
    "def process_decoder_input(target_data, target_vocab_to_int, batch_size):\n",
    "    \"\"\"\n",
    "    Preprocess target data for encoding\n",
    "    :param target_data: Target Placehoder\n",
    "    :param target_vocab_to_int: Dictionary to go from the target words to an id\n",
    "    :param batch_size: Batch Size\n",
    "    :return: Preprocessed target data\n",
    "    \"\"\"\n",
    "    # TODO: Implement Function\n",
    "    return tf.concat([tf.fill([batch_size, 1], target_vocab_to_int['<GO>']), \n",
    "                      target_data[:, :-1]],\n",
    "                     1)\n",
    "\n",
    "\"\"\"\n",
    "DON'T MODIFY ANYTHING IN THIS CELL THAT IS BELOW THIS LINE\n",
    "\"\"\"\n",
    "tests.test_process_encoding_input(process_decoder_input)"
   ]
  },
  {
   "cell_type": "markdown",
   "metadata": {
    "deletable": true,
    "editable": true
   },
   "source": [
    "### Encoding\n",
    "Implement `encoding_layer()` to create a Encoder RNN layer:\n",
    " * Embed the encoder input using [`tf.contrib.layers.embed_sequence`](https://www.tensorflow.org/api_docs/python/tf/contrib/layers/embed_sequence)\n",
    " * Construct a [stacked](https://github.com/tensorflow/tensorflow/blob/6947f65a374ebf29e74bb71e36fd82760056d82c/tensorflow/docs_src/tutorials/recurrent.md#stacking-multiple-lstms) [`tf.contrib.rnn.LSTMCell`](https://www.tensorflow.org/api_docs/python/tf/contrib/rnn/LSTMCell) wrapped in a [`tf.contrib.rnn.DropoutWrapper`](https://www.tensorflow.org/api_docs/python/tf/contrib/rnn/DropoutWrapper)\n",
    " * Pass cell and embedded input to [`tf.nn.dynamic_rnn()`](https://www.tensorflow.org/api_docs/python/tf/nn/dynamic_rnn)"
   ]
  },
  {
   "cell_type": "code",
   "execution_count": 9,
   "metadata": {
    "collapsed": false,
    "deletable": true,
    "editable": true,
    "scrolled": false
   },
   "outputs": [
    {
     "name": "stdout",
     "output_type": "stream",
     "text": [
      "Tests Passed\n"
     ]
    }
   ],
   "source": [
    "from imp import reload\n",
    "reload(tests)\n",
    "\n",
    "def encoding_layer(rnn_inputs, rnn_size, num_layers, keep_prob, \n",
    "                   source_sequence_length, source_vocab_size, \n",
    "                   encoding_embedding_size):\n",
    "    \"\"\"\n",
    "    Create encoding layer\n",
    "    :param rnn_inputs: Inputs for the RNN\n",
    "    :param rnn_size: RNN Size\n",
    "    :param num_layers: Number of layers\n",
    "    :param keep_prob: Dropout keep probability\n",
    "    :param source_sequence_length: a list of the lengths of each sequence in the batch\n",
    "    :param source_vocab_size: vocabulary size of source data\n",
    "    :param encoding_embedding_size: embedding size of source data\n",
    "    :return: tuple (RNN output, RNN state)\n",
    "    \"\"\"\n",
    "    def lstm_cell(lstm_size):\n",
    "        lstm_cell = tf.contrib.rnn.LSTMCell(\n",
    "            lstm_size, \n",
    "            initializer=tf.random_uniform_initializer(-0.1, 0.1, seed=7)\n",
    "        )\n",
    "        return tf.contrib.rnn.DropoutWrapper(lstm_cell, output_keep_prob=keep_prob)\n",
    "    \n",
    "    enc_embed_input = tf.contrib.layers.embed_sequence(rnn_inputs, source_vocab_size, encoding_embedding_size)\n",
    "    stacked_lstm = tf.contrib.rnn.MultiRNNCell([lstm_cell(rnn_size) for _ in range(num_layers)])\n",
    "    enc_out, enc_state = tf.nn.dynamic_rnn(\n",
    "        stacked_lstm, \n",
    "        enc_embed_input, \n",
    "        sequence_length=source_sequence_length, \n",
    "        dtype=tf.float32\n",
    "    )\n",
    "    \n",
    "    return enc_out, enc_state\n",
    "\n",
    "\"\"\"\n",
    "DON'T MODIFY ANYTHING IN THIS CELL THAT IS BELOW THIS LINE\n",
    "\"\"\"\n",
    "tests.test_encoding_layer(encoding_layer)"
   ]
  },
  {
   "cell_type": "markdown",
   "metadata": {
    "deletable": true,
    "editable": true
   },
   "source": [
    "### Decoding - Training\n",
    "Create a training decoding layer:\n",
    "* Create a [`tf.contrib.seq2seq.TrainingHelper`](https://www.tensorflow.org/api_docs/python/tf/contrib/seq2seq/TrainingHelper) \n",
    "* Create a [`tf.contrib.seq2seq.BasicDecoder`](https://www.tensorflow.org/api_docs/python/tf/contrib/seq2seq/BasicDecoder)\n",
    "* Obtain the decoder outputs from [`tf.contrib.seq2seq.dynamic_decode`](https://www.tensorflow.org/api_docs/python/tf/contrib/seq2seq/dynamic_decode)"
   ]
  },
  {
   "cell_type": "code",
   "execution_count": 10,
   "metadata": {
    "collapsed": false,
    "deletable": true,
    "editable": true
   },
   "outputs": [
    {
     "name": "stdout",
     "output_type": "stream",
     "text": [
      "Tests Passed\n"
     ]
    }
   ],
   "source": [
    "\n",
    "def decoding_layer_train(encoder_state, dec_cell, dec_embed_input, \n",
    "                         target_sequence_length, max_summary_length, \n",
    "                         output_layer, keep_prob):\n",
    "    \"\"\"\n",
    "    Create a decoding layer for training\n",
    "    :param encoder_state: Encoder State\n",
    "    :param dec_cell: Decoder RNN Cell\n",
    "    :param dec_embed_input: Decoder embedded input\n",
    "    :param target_sequence_length: The lengths of each sequence in the target batch\n",
    "    :param max_summary_length: The length of the longest sequence in the batch\n",
    "    :param output_layer: Function to apply the output layer\n",
    "    :param keep_prob: Dropout keep probability\n",
    "    :return: BasicDecoderOutput containing training logits and sample_id\n",
    "    \"\"\"\n",
    "    # TODO: Implement Function\n",
    "    training_helper = tf.contrib.seq2seq.TrainingHelper(\n",
    "        inputs=dec_embed_input, \n",
    "        sequence_length=target_sequence_length\n",
    "    )\n",
    "    \n",
    "    decoder = tf.contrib.seq2seq.BasicDecoder(\n",
    "        cell=dec_cell,\n",
    "        helper=training_helper,\n",
    "        initial_state=encoder_state,\n",
    "        output_layer=output_layer\n",
    "    )\n",
    "    \n",
    "    final_outputs, _ =  tf.contrib.seq2seq.dynamic_decode(\n",
    "        decoder=decoder,\n",
    "        impute_finished=True,\n",
    "        maximum_iterations=max_summary_length\n",
    "    )                                                                                            \n",
    "    \n",
    "    return final_outputs\n",
    "\n",
    "\n",
    "\n",
    "\"\"\"\n",
    "DON'T MODIFY ANYTHING IN THIS CELL THAT IS BELOW THIS LINE\n",
    "\"\"\"\n",
    "tests.test_decoding_layer_train(decoding_layer_train)"
   ]
  },
  {
   "cell_type": "markdown",
   "metadata": {
    "deletable": true,
    "editable": true
   },
   "source": [
    "### Decoding - Inference\n",
    "Create inference decoder:\n",
    "* Create a [`tf.contrib.seq2seq.GreedyEmbeddingHelper`](https://www.tensorflow.org/api_docs/python/tf/contrib/seq2seq/GreedyEmbeddingHelper)\n",
    "* Create a [`tf.contrib.seq2seq.BasicDecoder`](https://www.tensorflow.org/api_docs/python/tf/contrib/seq2seq/BasicDecoder)\n",
    "* Obtain the decoder outputs from [`tf.contrib.seq2seq.dynamic_decode`](https://www.tensorflow.org/api_docs/python/tf/contrib/seq2seq/dynamic_decode)"
   ]
  },
  {
   "cell_type": "code",
   "execution_count": 11,
   "metadata": {
    "collapsed": false,
    "deletable": true,
    "editable": true,
    "scrolled": true
   },
   "outputs": [
    {
     "name": "stdout",
     "output_type": "stream",
     "text": [
      "Tests Passed\n"
     ]
    }
   ],
   "source": [
    "def decoding_layer_infer(encoder_state, dec_cell, dec_embeddings, start_of_sequence_id,\n",
    "                         end_of_sequence_id, max_target_sequence_length,\n",
    "                         vocab_size, output_layer, batch_size, keep_prob):\n",
    "    \"\"\"\n",
    "    Create a decoding layer for inference\n",
    "    :param encoder_state: Encoder state\n",
    "    :param dec_cell: Decoder RNN Cell\n",
    "    :param dec_embeddings: Decoder embeddings\n",
    "    :param start_of_sequence_id: GO ID\n",
    "    :param end_of_sequence_id: EOS Id\n",
    "    :param max_target_sequence_length: Maximum length of target sequences\n",
    "    :param vocab_size: Size of decoder/target vocabulary\n",
    "    :param decoding_scope: TenorFlow Variable Scope for decoding\n",
    "    :param output_layer: Function to apply the output layer\n",
    "    :param batch_size: Batch size\n",
    "    :param keep_prob: Dropout keep probability\n",
    "    :return: BasicDecoderOutput containing inference logits and sample_id\n",
    "    \"\"\"\n",
    "    # TODO: Implement Function\n",
    "    start_tokens = tf.tile(tf.constant([start_of_sequence_id], dtype=tf.int32), [batch_size], name='start_tokens')\n",
    "    inference_helper = tf.contrib.seq2seq.GreedyEmbeddingHelper(\n",
    "        embedding=dec_embeddings,\n",
    "        start_tokens=start_tokens,\n",
    "        end_token=end_of_sequence_id)\n",
    "    \n",
    "    inference_decoder = tf.contrib.seq2seq.BasicDecoder(\n",
    "        cell=dec_cell,\n",
    "        helper=inference_helper,\n",
    "        initial_state=encoder_state,\n",
    "        output_layer=output_layer)\n",
    "    \n",
    "    final_outputs, _ = tf.contrib.seq2seq.dynamic_decode(\n",
    "        decoder=inference_decoder, \n",
    "        impute_finished=True,\n",
    "        maximum_iterations=max_target_sequence_length)\n",
    "    \n",
    "    return final_outputs\n",
    "\n",
    "\n",
    "\n",
    "\"\"\"\n",
    "DON'T MODIFY ANYTHING IN THIS CELL THAT IS BELOW THIS LINE\n",
    "\"\"\"\n",
    "tests.test_decoding_layer_infer(decoding_layer_infer)"
   ]
  },
  {
   "cell_type": "markdown",
   "metadata": {
    "deletable": true,
    "editable": true
   },
   "source": [
    "### Build the Decoding Layer\n",
    "Implement `decoding_layer()` to create a Decoder RNN layer.\n",
    "\n",
    "* Embed the target sequences\n",
    "* Construct the decoder LSTM cell (just like you constructed the encoder cell above)\n",
    "* Create an output layer to map the outputs of the decoder to the elements of our vocabulary\n",
    "* Use the your `decoding_layer_train(encoder_state, dec_cell, dec_embed_input, target_sequence_length, max_target_sequence_length, output_layer, keep_prob)` function to get the training logits.\n",
    "* Use your `decoding_layer_infer(encoder_state, dec_cell, dec_embeddings, start_of_sequence_id, end_of_sequence_id, max_target_sequence_length, vocab_size, output_layer, batch_size, keep_prob)` function to get the inference logits.\n",
    "\n",
    "Note: You'll need to use [tf.variable_scope](https://www.tensorflow.org/api_docs/python/tf/variable_scope) to share variables between training and inference."
   ]
  },
  {
   "cell_type": "code",
   "execution_count": 12,
   "metadata": {
    "collapsed": false,
    "deletable": true,
    "editable": true
   },
   "outputs": [
    {
     "name": "stdout",
     "output_type": "stream",
     "text": [
      "Tests Passed\n"
     ]
    }
   ],
   "source": [
    "def decoding_layer(dec_input, encoder_state,\n",
    "                   target_sequence_length, max_target_sequence_length,\n",
    "                   rnn_size,\n",
    "                   num_layers, target_vocab_to_int, target_vocab_size,\n",
    "                   batch_size, keep_prob, decoding_embedding_size):\n",
    "    \"\"\"\n",
    "    Create decoding layer\n",
    "    :param dec_input: Decoder input\n",
    "    :param encoder_state: Encoder state\n",
    "    :param target_sequence_length: The lengths of each sequence in the target batch\n",
    "    :param max_target_sequence_length: Maximum length of target sequences\n",
    "    :param rnn_size: RNN Size\n",
    "    :param num_layers: Number of layers\n",
    "    :param target_vocab_to_int: Dictionary to go from the target words to an id\n",
    "    :param target_vocab_size: Size of target vocabulary\n",
    "    :param batch_size: The size of the batch\n",
    "    :param keep_prob: Dropout keep probability\n",
    "    :param decoding_embedding_size: Decoding embedding size\n",
    "    :return: Tuple of (Training BasicDecoderOutput, Inference BasicDecoderOutput)\n",
    "    \"\"\"\n",
    "    # TODO: Implement Function\n",
    "    def lstm_cell(rnn_size):\n",
    "        lstm = tf.contrib.rnn.LSTMCell(rnn_size, initializer=tf.random_uniform_initializer(-0.1, 0.1, seed=2))\n",
    "        return tf.contrib.rnn.DropoutWrapper(lstm, output_keep_prob=keep_prob)\n",
    "    \n",
    "    start_sequence_id = target_vocab_to_int['<GO>']\n",
    "    end_sequence_id = target_vocab_to_int['<EOS>']\n",
    "    \n",
    "    dec_embeddings = tf.Variable(tf.random_uniform([target_vocab_size, decoding_embedding_size], -1, 1))\n",
    "    dec_embed_input = tf.nn.embedding_lookup(dec_embeddings, dec_input)\n",
    "        \n",
    "    stacked_lstm_cells = tf.contrib.rnn.MultiRNNCell([lstm_cell(rnn_size) for _ in range(num_layers)])\n",
    "    dec_cell = tf.contrib.rnn.DropoutWrapper(stacked_lstm_cells, keep_prob)\n",
    "    output_layer = Dense(target_vocab_size, \n",
    "                         kernel_initializer = tf.truncated_normal_initializer(mean = 0.0, stddev=0.1))\n",
    "\n",
    "    with tf.variable_scope(\"decode\") as decoding_scope:\n",
    "        training_logits = decoding_layer_train(\n",
    "            encoder_state, \n",
    "            dec_cell,\n",
    "            dec_embed_input,\n",
    "            target_sequence_length,\n",
    "            max_target_sequence_length,\n",
    "            output_layer,\n",
    "            keep_prob)\n",
    "        \n",
    "        decoding_scope.reuse_variables()\n",
    "        \n",
    "        inference_logits = decoding_layer_infer(\n",
    "            encoder_state,\n",
    "            dec_cell,\n",
    "            dec_embeddings,                                    \n",
    "            start_sequence_id,               \n",
    "            end_sequence_id,\n",
    "            max_target_sequence_length,\n",
    "            target_vocab_size,\n",
    "            output_layer,\n",
    "            batch_size,\n",
    "            keep_prob)\n",
    "    \n",
    "    return training_logits, inference_logits\n",
    "\n",
    "\n",
    "\n",
    "\"\"\"\n",
    "DON'T MODIFY ANYTHING IN THIS CELL THAT IS BELOW THIS LINE\n",
    "\"\"\"\n",
    "tests.test_decoding_layer(decoding_layer)"
   ]
  },
  {
   "cell_type": "markdown",
   "metadata": {
    "deletable": true,
    "editable": true
   },
   "source": [
    "### Build the Neural Network\n",
    "Apply the functions you implemented above to:\n",
    "\n",
    "- Encode the input using your `encoding_layer(rnn_inputs, rnn_size, num_layers, keep_prob,  source_sequence_length, source_vocab_size, encoding_embedding_size)`.\n",
    "- Process target data using your `process_decoder_input(target_data, target_vocab_to_int, batch_size)` function.\n",
    "- Decode the encoded input using your `decoding_layer(dec_input, enc_state, target_sequence_length, max_target_sentence_length, rnn_size, num_layers, target_vocab_to_int, target_vocab_size, batch_size, keep_prob, dec_embedding_size)` function."
   ]
  },
  {
   "cell_type": "code",
   "execution_count": 13,
   "metadata": {
    "collapsed": false,
    "deletable": true,
    "editable": true
   },
   "outputs": [
    {
     "name": "stdout",
     "output_type": "stream",
     "text": [
      "Tests Passed\n"
     ]
    }
   ],
   "source": [
    "def seq2seq_model(input_data, target_data, keep_prob, batch_size,\n",
    "                  source_sequence_length, target_sequence_length,\n",
    "                  max_target_sentence_length,\n",
    "                  source_vocab_size, target_vocab_size,\n",
    "                  enc_embedding_size, dec_embedding_size,\n",
    "                  rnn_size, num_layers, target_vocab_to_int):\n",
    "    \"\"\"\n",
    "    Build the Sequence-to-Sequence part of the neural network\n",
    "    :param input_data: Input placeholder\n",
    "    :param target_data: Target placeholder\n",
    "    :param keep_prob: Dropout keep probability placeholder\n",
    "    :param batch_size: Batch Size\n",
    "    :param source_sequence_length: Sequence Lengths of source sequences in the batch\n",
    "    :param target_sequence_length: Sequence Lengths of target sequences in the batch\n",
    "    :param source_vocab_size: Source vocabulary size\n",
    "    :param target_vocab_size: Target vocabulary size\n",
    "    :param enc_embedding_size: Decoder embedding size\n",
    "    :param dec_embedding_size: Encoder embedding size\n",
    "    :param rnn_size: RNN Size\n",
    "    :param num_layers: Number of layers\n",
    "    :param target_vocab_to_int: Dictionary to go from the target words to an id\n",
    "    :return: Tuple of (Training BasicDecoderOutput, Inference BasicDecoderOutput)\n",
    "    \"\"\"\n",
    "    # TODO: Implement Function\n",
    "    _, enc_state = encoding_layer(\n",
    "        input_data,\n",
    "        rnn_size,\n",
    "        num_layers,\n",
    "        keep_prob,\n",
    "        source_sequence_length,\n",
    "        source_vocab_size,\n",
    "        enc_embedding_size\n",
    "    )\n",
    "    \n",
    "    dec_input = process_decoder_input(\n",
    "        target_data, \n",
    "        target_vocab_to_int, \n",
    "        batch_size\n",
    "    )\n",
    "    \n",
    "    training_logits, inference_logits = decoding_layer(\n",
    "        dec_input,\n",
    "        enc_state,\n",
    "        target_sequence_length,\n",
    "        max_target_sentence_length,\n",
    "        rnn_size, \n",
    "        num_layers,\n",
    "        target_vocab_to_int,\n",
    "        target_vocab_size,\n",
    "        batch_size,\n",
    "        keep_prob,\n",
    "        dec_embedding_size\n",
    "    )\n",
    "    \n",
    "    return training_logits, inference_logits\n",
    "\n",
    "\n",
    "\n",
    "\"\"\"\n",
    "DON'T MODIFY ANYTHING IN THIS CELL THAT IS BELOW THIS LINE\n",
    "\"\"\"\n",
    "tests.test_seq2seq_model(seq2seq_model)"
   ]
  },
  {
   "cell_type": "markdown",
   "metadata": {
    "deletable": true,
    "editable": true
   },
   "source": [
    "## Neural Network Training\n",
    "### Hyperparameters\n",
    "Tune the following parameters:\n",
    "\n",
    "- Set `epochs` to the number of epochs.\n",
    "- Set `batch_size` to the batch size.\n",
    "- Set `rnn_size` to the size of the RNNs.\n",
    "- Set `num_layers` to the number of layers.\n",
    "- Set `encoding_embedding_size` to the size of the embedding for the encoder.\n",
    "- Set `decoding_embedding_size` to the size of the embedding for the decoder.\n",
    "- Set `learning_rate` to the learning rate.\n",
    "- Set `keep_probability` to the Dropout keep probability\n",
    "- Set `display_step` to state how many steps between each debug output statement"
   ]
  },
  {
   "cell_type": "code",
   "execution_count": 14,
   "metadata": {
    "collapsed": true,
    "deletable": true,
    "editable": true
   },
   "outputs": [],
   "source": [
    "# Number of Epochs\n",
    "epochs = 10\n",
    "# Batch Size\n",
    "batch_size = 256\n",
    "# RNN Size\n",
    "rnn_size = 256\n",
    "# Number of Layers\n",
    "num_layers = 2\n",
    "# Embedding Size\n",
    "encoding_embedding_size = 128 # \n",
    "decoding_embedding_size = 128 # \n",
    "# Learning Rate\n",
    "learning_rate = 0.001\n",
    "# Dropout Keep Probability\n",
    "keep_probability = 0.7\n",
    "display_step = 20"
   ]
  },
  {
   "cell_type": "markdown",
   "metadata": {
    "deletable": true,
    "editable": true
   },
   "source": [
    "### Build the Graph\n",
    "Build the graph using the neural network you implemented."
   ]
  },
  {
   "cell_type": "code",
   "execution_count": 15,
   "metadata": {
    "collapsed": true,
    "deletable": true,
    "editable": true
   },
   "outputs": [],
   "source": [
    "\"\"\"\n",
    "DON'T MODIFY ANYTHING IN THIS CELL\n",
    "\"\"\"\n",
    "save_path = 'checkpoints/dev'\n",
    "(source_int_text, target_int_text), (source_vocab_to_int, target_vocab_to_int), _ = helper.load_preprocess()\n",
    "max_target_sentence_length = max([len(sentence) for sentence in source_int_text])\n",
    "\n",
    "train_graph = tf.Graph()\n",
    "with train_graph.as_default():\n",
    "    input_data, targets, lr, keep_prob, target_sequence_length, max_target_sequence_length, source_sequence_length = model_inputs()\n",
    "\n",
    "    #sequence_length = tf.placeholder_with_default(max_target_sentence_length, None, name='sequence_length')\n",
    "    input_shape = tf.shape(input_data)\n",
    "\n",
    "    train_logits, inference_logits = seq2seq_model(tf.reverse(input_data, [-1]),\n",
    "                                                   targets,\n",
    "                                                   keep_prob,\n",
    "                                                   batch_size,\n",
    "                                                   source_sequence_length,\n",
    "                                                   target_sequence_length,\n",
    "                                                   max_target_sequence_length,\n",
    "                                                   len(source_vocab_to_int),\n",
    "                                                   len(target_vocab_to_int),\n",
    "                                                   encoding_embedding_size,\n",
    "                                                   decoding_embedding_size,\n",
    "                                                   rnn_size,\n",
    "                                                   num_layers,\n",
    "                                                   target_vocab_to_int)\n",
    "\n",
    "\n",
    "    training_logits = tf.identity(train_logits.rnn_output, name='logits')\n",
    "    inference_logits = tf.identity(inference_logits.sample_id, name='predictions')\n",
    "\n",
    "    masks = tf.sequence_mask(target_sequence_length, max_target_sequence_length, dtype=tf.float32, name='masks')\n",
    "\n",
    "    with tf.name_scope(\"optimization\"):\n",
    "        # Loss function\n",
    "        cost = tf.contrib.seq2seq.sequence_loss(\n",
    "            training_logits,\n",
    "            targets,\n",
    "            masks)\n",
    "\n",
    "        # Optimizer\n",
    "        optimizer = tf.train.AdamOptimizer(lr)\n",
    "\n",
    "        # Gradient Clipping\n",
    "        gradients = optimizer.compute_gradients(cost)\n",
    "        capped_gradients = [(tf.clip_by_value(grad, -1., 1.), var) for grad, var in gradients if grad is not None]\n",
    "        train_op = optimizer.apply_gradients(capped_gradients)\n"
   ]
  },
  {
   "cell_type": "markdown",
   "metadata": {
    "deletable": true,
    "editable": true
   },
   "source": [
    "Batch and pad the source and target sequences"
   ]
  },
  {
   "cell_type": "code",
   "execution_count": 16,
   "metadata": {
    "collapsed": true,
    "deletable": true,
    "editable": true
   },
   "outputs": [],
   "source": [
    "\"\"\"\n",
    "DON'T MODIFY ANYTHING IN THIS CELL\n",
    "\"\"\"\n",
    "def pad_sentence_batch(sentence_batch, pad_int):\n",
    "    \"\"\"Pad sentences with <PAD> so that each sentence of a batch has the same length\"\"\"\n",
    "    max_sentence = max([len(sentence) for sentence in sentence_batch])\n",
    "    return [sentence + [pad_int] * (max_sentence - len(sentence)) for sentence in sentence_batch]\n",
    "\n",
    "\n",
    "def get_batches(sources, targets, batch_size, source_pad_int, target_pad_int):\n",
    "    \"\"\"Batch targets, sources, and the lengths of their sentences together\"\"\"\n",
    "    for batch_i in range(0, len(sources)//batch_size):\n",
    "        start_i = batch_i * batch_size\n",
    "\n",
    "        # Slice the right amount for the batch\n",
    "        sources_batch = sources[start_i:start_i + batch_size]\n",
    "        targets_batch = targets[start_i:start_i + batch_size]\n",
    "\n",
    "        # Pad\n",
    "        pad_sources_batch = np.array(pad_sentence_batch(sources_batch, source_pad_int))\n",
    "        pad_targets_batch = np.array(pad_sentence_batch(targets_batch, target_pad_int))\n",
    "\n",
    "        # Need the lengths for the _lengths parameters\n",
    "        pad_targets_lengths = []\n",
    "        for target in pad_targets_batch:\n",
    "            pad_targets_lengths.append(len(target))\n",
    "\n",
    "        pad_source_lengths = []\n",
    "        for source in pad_sources_batch:\n",
    "            pad_source_lengths.append(len(source))\n",
    "\n",
    "        yield pad_sources_batch, pad_targets_batch, pad_source_lengths, pad_targets_lengths\n"
   ]
  },
  {
   "cell_type": "markdown",
   "metadata": {
    "deletable": true,
    "editable": true
   },
   "source": [
    "### Train\n",
    "Train the neural network on the preprocessed data. If you have a hard time getting a good loss, check the forms to see if anyone is having the same problem."
   ]
  },
  {
   "cell_type": "code",
   "execution_count": 17,
   "metadata": {
    "collapsed": false,
    "deletable": true,
    "editable": true,
    "scrolled": true
   },
   "outputs": [
    {
     "name": "stdout",
     "output_type": "stream",
     "text": [
      "Epoch   0 Batch   20/538 - Train Accuracy: 0.3748, Validation Accuracy: 0.4222, Loss: 2.7123\n",
      "Epoch   0 Batch   40/538 - Train Accuracy: 0.4645, Validation Accuracy: 0.4728, Loss: 2.0102\n",
      "Epoch   0 Batch   60/538 - Train Accuracy: 0.3758, Validation Accuracy: 0.4519, Loss: 1.7442\n",
      "Epoch   0 Batch   80/538 - Train Accuracy: 0.3828, Validation Accuracy: 0.4469, Loss: 1.5173\n",
      "Epoch   0 Batch  100/538 - Train Accuracy: 0.4041, Validation Accuracy: 0.4560, Loss: 1.2627\n",
      "Epoch   0 Batch  120/538 - Train Accuracy: 0.4334, Validation Accuracy: 0.4977, Loss: 1.1205\n",
      "Epoch   0 Batch  140/538 - Train Accuracy: 0.4744, Validation Accuracy: 0.5355, Loss: 1.0921\n",
      "Epoch   0 Batch  160/538 - Train Accuracy: 0.5017, Validation Accuracy: 0.5284, Loss: 0.8967\n",
      "Epoch   0 Batch  180/538 - Train Accuracy: 0.5666, Validation Accuracy: 0.5545, Loss: 0.8589\n",
      "Epoch   0 Batch  200/538 - Train Accuracy: 0.5631, Validation Accuracy: 0.5669, Loss: 0.8281\n",
      "Epoch   0 Batch  220/538 - Train Accuracy: 0.5554, Validation Accuracy: 0.5943, Loss: 0.7680\n",
      "Epoch   0 Batch  240/538 - Train Accuracy: 0.5717, Validation Accuracy: 0.5984, Loss: 0.7792\n",
      "Epoch   0 Batch  260/538 - Train Accuracy: 0.5861, Validation Accuracy: 0.6058, Loss: 0.7363\n",
      "Epoch   0 Batch  280/538 - Train Accuracy: 0.6265, Validation Accuracy: 0.6151, Loss: 0.6764\n",
      "Epoch   0 Batch  300/538 - Train Accuracy: 0.5921, Validation Accuracy: 0.6051, Loss: 0.6717\n",
      "Epoch   0 Batch  320/538 - Train Accuracy: 0.6237, Validation Accuracy: 0.6186, Loss: 0.6522\n",
      "Epoch   0 Batch  340/538 - Train Accuracy: 0.5936, Validation Accuracy: 0.6119, Loss: 0.6668\n",
      "Epoch   0 Batch  360/538 - Train Accuracy: 0.6217, Validation Accuracy: 0.6168, Loss: 0.6459\n",
      "Epoch   0 Batch  380/538 - Train Accuracy: 0.6045, Validation Accuracy: 0.6321, Loss: 0.6077\n",
      "Epoch   0 Batch  400/538 - Train Accuracy: 0.6150, Validation Accuracy: 0.6239, Loss: 0.5895\n",
      "Epoch   0 Batch  420/538 - Train Accuracy: 0.6328, Validation Accuracy: 0.6385, Loss: 0.5882\n",
      "Epoch   0 Batch  440/538 - Train Accuracy: 0.6227, Validation Accuracy: 0.6383, Loss: 0.6060\n",
      "Epoch   0 Batch  460/538 - Train Accuracy: 0.6142, Validation Accuracy: 0.6408, Loss: 0.5549\n",
      "Epoch   0 Batch  480/538 - Train Accuracy: 0.6499, Validation Accuracy: 0.6468, Loss: 0.5432\n",
      "Epoch   0 Batch  500/538 - Train Accuracy: 0.6470, Validation Accuracy: 0.6342, Loss: 0.4997\n",
      "Epoch   0 Batch  520/538 - Train Accuracy: 0.6510, Validation Accuracy: 0.6534, Loss: 0.5426\n",
      "Epoch   1 Batch   20/538 - Train Accuracy: 0.6445, Validation Accuracy: 0.6712, Loss: 0.5142\n",
      "Epoch   1 Batch   40/538 - Train Accuracy: 0.6531, Validation Accuracy: 0.6653, Loss: 0.4493\n",
      "Epoch   1 Batch   60/538 - Train Accuracy: 0.6586, Validation Accuracy: 0.6680, Loss: 0.4984\n",
      "Epoch   1 Batch   80/538 - Train Accuracy: 0.6635, Validation Accuracy: 0.6781, Loss: 0.4952\n",
      "Epoch   1 Batch  100/538 - Train Accuracy: 0.6916, Validation Accuracy: 0.6724, Loss: 0.4534\n",
      "Epoch   1 Batch  120/538 - Train Accuracy: 0.6951, Validation Accuracy: 0.6958, Loss: 0.4298\n",
      "Epoch   1 Batch  140/538 - Train Accuracy: 0.6576, Validation Accuracy: 0.6923, Loss: 0.4572\n",
      "Epoch   1 Batch  160/538 - Train Accuracy: 0.6804, Validation Accuracy: 0.6882, Loss: 0.4007\n",
      "Epoch   1 Batch  180/538 - Train Accuracy: 0.7483, Validation Accuracy: 0.7248, Loss: 0.3899\n",
      "Epoch   1 Batch  200/538 - Train Accuracy: 0.7633, Validation Accuracy: 0.7301, Loss: 0.3769\n",
      "Epoch   1 Batch  220/538 - Train Accuracy: 0.7258, Validation Accuracy: 0.7418, Loss: 0.3640\n",
      "Epoch   1 Batch  240/538 - Train Accuracy: 0.7727, Validation Accuracy: 0.7555, Loss: 0.3623\n",
      "Epoch   1 Batch  260/538 - Train Accuracy: 0.7573, Validation Accuracy: 0.7695, Loss: 0.3347\n",
      "Epoch   1 Batch  280/538 - Train Accuracy: 0.8144, Validation Accuracy: 0.7681, Loss: 0.3049\n",
      "Epoch   1 Batch  300/538 - Train Accuracy: 0.7569, Validation Accuracy: 0.7733, Loss: 0.2981\n",
      "Epoch   1 Batch  320/538 - Train Accuracy: 0.8071, Validation Accuracy: 0.8091, Loss: 0.2755\n",
      "Epoch   1 Batch  340/538 - Train Accuracy: 0.8139, Validation Accuracy: 0.8068, Loss: 0.2682\n",
      "Epoch   1 Batch  360/538 - Train Accuracy: 0.8111, Validation Accuracy: 0.8203, Loss: 0.2660\n",
      "Epoch   1 Batch  380/538 - Train Accuracy: 0.8420, Validation Accuracy: 0.8276, Loss: 0.2332\n",
      "Epoch   1 Batch  400/538 - Train Accuracy: 0.8465, Validation Accuracy: 0.8278, Loss: 0.2387\n",
      "Epoch   1 Batch  420/538 - Train Accuracy: 0.8654, Validation Accuracy: 0.8494, Loss: 0.2235\n",
      "Epoch   1 Batch  440/538 - Train Accuracy: 0.8578, Validation Accuracy: 0.8548, Loss: 0.2211\n",
      "Epoch   1 Batch  460/538 - Train Accuracy: 0.8562, Validation Accuracy: 0.8477, Loss: 0.1931\n",
      "Epoch   1 Batch  480/538 - Train Accuracy: 0.8605, Validation Accuracy: 0.8588, Loss: 0.1926\n",
      "Epoch   1 Batch  500/538 - Train Accuracy: 0.9041, Validation Accuracy: 0.8528, Loss: 0.1657\n",
      "Epoch   1 Batch  520/538 - Train Accuracy: 0.8836, Validation Accuracy: 0.8738, Loss: 0.1628\n",
      "Epoch   2 Batch   20/538 - Train Accuracy: 0.8929, Validation Accuracy: 0.8814, Loss: 0.1565\n",
      "Epoch   2 Batch   40/538 - Train Accuracy: 0.8821, Validation Accuracy: 0.9089, Loss: 0.1238\n",
      "Epoch   2 Batch   60/538 - Train Accuracy: 0.9117, Validation Accuracy: 0.8764, Loss: 0.1320\n",
      "Epoch   2 Batch   80/538 - Train Accuracy: 0.8865, Validation Accuracy: 0.8929, Loss: 0.1317\n",
      "Epoch   2 Batch  100/538 - Train Accuracy: 0.9037, Validation Accuracy: 0.8908, Loss: 0.1079\n",
      "Epoch   2 Batch  120/538 - Train Accuracy: 0.9242, Validation Accuracy: 0.8849, Loss: 0.1062\n",
      "Epoch   2 Batch  140/538 - Train Accuracy: 0.9004, Validation Accuracy: 0.9004, Loss: 0.1249\n",
      "Epoch   2 Batch  160/538 - Train Accuracy: 0.8888, Validation Accuracy: 0.8984, Loss: 0.0995\n",
      "Epoch   2 Batch  180/538 - Train Accuracy: 0.9107, Validation Accuracy: 0.8977, Loss: 0.0984\n",
      "Epoch   2 Batch  200/538 - Train Accuracy: 0.9135, Validation Accuracy: 0.8906, Loss: 0.0843\n",
      "Epoch   2 Batch  220/538 - Train Accuracy: 0.9135, Validation Accuracy: 0.8972, Loss: 0.0951\n",
      "Epoch   2 Batch  240/538 - Train Accuracy: 0.9135, Validation Accuracy: 0.9034, Loss: 0.0959\n",
      "Epoch   2 Batch  260/538 - Train Accuracy: 0.8702, Validation Accuracy: 0.8940, Loss: 0.0885\n",
      "Epoch   2 Batch  280/538 - Train Accuracy: 0.9466, Validation Accuracy: 0.8997, Loss: 0.0782\n",
      "Epoch   2 Batch  300/538 - Train Accuracy: 0.9109, Validation Accuracy: 0.9038, Loss: 0.0799\n",
      "Epoch   2 Batch  320/538 - Train Accuracy: 0.9315, Validation Accuracy: 0.9054, Loss: 0.0787\n",
      "Epoch   2 Batch  340/538 - Train Accuracy: 0.9184, Validation Accuracy: 0.9176, Loss: 0.0752\n",
      "Epoch   2 Batch  360/538 - Train Accuracy: 0.9309, Validation Accuracy: 0.9155, Loss: 0.0741\n",
      "Epoch   2 Batch  380/538 - Train Accuracy: 0.9328, Validation Accuracy: 0.9123, Loss: 0.0693\n",
      "Epoch   2 Batch  400/538 - Train Accuracy: 0.9349, Validation Accuracy: 0.9306, Loss: 0.0748\n",
      "Epoch   2 Batch  420/538 - Train Accuracy: 0.9350, Validation Accuracy: 0.9300, Loss: 0.0727\n",
      "Epoch   2 Batch  440/538 - Train Accuracy: 0.9186, Validation Accuracy: 0.9112, Loss: 0.0734\n",
      "Epoch   2 Batch  460/538 - Train Accuracy: 0.9157, Validation Accuracy: 0.9327, Loss: 0.0705\n",
      "Epoch   2 Batch  480/538 - Train Accuracy: 0.9349, Validation Accuracy: 0.9185, Loss: 0.0679\n",
      "Epoch   2 Batch  500/538 - Train Accuracy: 0.9442, Validation Accuracy: 0.9263, Loss: 0.0537\n",
      "Epoch   2 Batch  520/538 - Train Accuracy: 0.9465, Validation Accuracy: 0.9245, Loss: 0.0567\n",
      "Epoch   3 Batch   20/538 - Train Accuracy: 0.9351, Validation Accuracy: 0.9306, Loss: 0.0646\n",
      "Epoch   3 Batch   40/538 - Train Accuracy: 0.9339, Validation Accuracy: 0.9242, Loss: 0.0501\n",
      "Epoch   3 Batch   60/538 - Train Accuracy: 0.9348, Validation Accuracy: 0.9210, Loss: 0.0583\n",
      "Epoch   3 Batch   80/538 - Train Accuracy: 0.9254, Validation Accuracy: 0.9245, Loss: 0.0617\n",
      "Epoch   3 Batch  100/538 - Train Accuracy: 0.9418, Validation Accuracy: 0.9393, Loss: 0.0525\n",
      "Epoch   3 Batch  120/538 - Train Accuracy: 0.9451, Validation Accuracy: 0.9327, Loss: 0.0467\n",
      "Epoch   3 Batch  140/538 - Train Accuracy: 0.9285, Validation Accuracy: 0.9325, Loss: 0.0736\n",
      "Epoch   3 Batch  160/538 - Train Accuracy: 0.9215, Validation Accuracy: 0.9352, Loss: 0.0524\n",
      "Epoch   3 Batch  180/538 - Train Accuracy: 0.9580, Validation Accuracy: 0.9304, Loss: 0.0498\n",
      "Epoch   3 Batch  200/538 - Train Accuracy: 0.9488, Validation Accuracy: 0.9318, Loss: 0.0418\n",
      "Epoch   3 Batch  220/538 - Train Accuracy: 0.9364, Validation Accuracy: 0.9334, Loss: 0.0540\n",
      "Epoch   3 Batch  240/538 - Train Accuracy: 0.9338, Validation Accuracy: 0.9377, Loss: 0.0534\n",
      "Epoch   3 Batch  260/538 - Train Accuracy: 0.9142, Validation Accuracy: 0.9306, Loss: 0.0513\n",
      "Epoch   3 Batch  280/538 - Train Accuracy: 0.9563, Validation Accuracy: 0.9419, Loss: 0.0430\n",
      "Epoch   3 Batch  300/538 - Train Accuracy: 0.9472, Validation Accuracy: 0.9373, Loss: 0.0499\n",
      "Epoch   3 Batch  320/538 - Train Accuracy: 0.9611, Validation Accuracy: 0.9453, Loss: 0.0441\n",
      "Epoch   3 Batch  340/538 - Train Accuracy: 0.9418, Validation Accuracy: 0.9512, Loss: 0.0460\n",
      "Epoch   3 Batch  360/538 - Train Accuracy: 0.9533, Validation Accuracy: 0.9402, Loss: 0.0437\n",
      "Epoch   3 Batch  380/538 - Train Accuracy: 0.9602, Validation Accuracy: 0.9352, Loss: 0.0451\n",
      "Epoch   3 Batch  400/538 - Train Accuracy: 0.9576, Validation Accuracy: 0.9464, Loss: 0.0457\n",
      "Epoch   3 Batch  420/538 - Train Accuracy: 0.9561, Validation Accuracy: 0.9407, Loss: 0.0466\n",
      "Epoch   3 Batch  440/538 - Train Accuracy: 0.9527, Validation Accuracy: 0.9521, Loss: 0.0438\n",
      "Epoch   3 Batch  460/538 - Train Accuracy: 0.9345, Validation Accuracy: 0.9494, Loss: 0.0451\n",
      "Epoch   3 Batch  480/538 - Train Accuracy: 0.9650, Validation Accuracy: 0.9462, Loss: 0.0391\n",
      "Epoch   3 Batch  500/538 - Train Accuracy: 0.9567, Validation Accuracy: 0.9581, Loss: 0.0317\n",
      "Epoch   3 Batch  520/538 - Train Accuracy: 0.9619, Validation Accuracy: 0.9498, Loss: 0.0390\n",
      "Epoch   4 Batch   20/538 - Train Accuracy: 0.9494, Validation Accuracy: 0.9434, Loss: 0.0414\n",
      "Epoch   4 Batch   40/538 - Train Accuracy: 0.9567, Validation Accuracy: 0.9528, Loss: 0.0315\n",
      "Epoch   4 Batch   60/538 - Train Accuracy: 0.9420, Validation Accuracy: 0.9474, Loss: 0.0379\n",
      "Epoch   4 Batch   80/538 - Train Accuracy: 0.9555, Validation Accuracy: 0.9462, Loss: 0.0395\n",
      "Epoch   4 Batch  100/538 - Train Accuracy: 0.9680, Validation Accuracy: 0.9478, Loss: 0.0350\n",
      "Epoch   4 Batch  120/538 - Train Accuracy: 0.9717, Validation Accuracy: 0.9553, Loss: 0.0272\n",
      "Epoch   4 Batch  140/538 - Train Accuracy: 0.9551, Validation Accuracy: 0.9572, Loss: 0.0563\n",
      "Epoch   4 Batch  160/538 - Train Accuracy: 0.9425, Validation Accuracy: 0.9560, Loss: 0.0349\n",
      "Epoch   4 Batch  180/538 - Train Accuracy: 0.9550, Validation Accuracy: 0.9505, Loss: 0.0345\n",
      "Epoch   4 Batch  200/538 - Train Accuracy: 0.9623, Validation Accuracy: 0.9482, Loss: 0.0314\n",
      "Epoch   4 Batch  220/538 - Train Accuracy: 0.9407, Validation Accuracy: 0.9531, Loss: 0.0394\n",
      "Epoch   4 Batch  240/538 - Train Accuracy: 0.9525, Validation Accuracy: 0.9522, Loss: 0.0416\n",
      "Epoch   4 Batch  260/538 - Train Accuracy: 0.9453, Validation Accuracy: 0.9517, Loss: 0.0429\n",
      "Epoch   4 Batch  280/538 - Train Accuracy: 0.9635, Validation Accuracy: 0.9567, Loss: 0.0290\n",
      "Epoch   4 Batch  300/538 - Train Accuracy: 0.9600, Validation Accuracy: 0.9677, Loss: 0.0378\n",
      "Epoch   4 Batch  320/538 - Train Accuracy: 0.9723, Validation Accuracy: 0.9611, Loss: 0.0283\n",
      "Epoch   4 Batch  340/538 - Train Accuracy: 0.9375, Validation Accuracy: 0.9576, Loss: 0.0352\n",
      "Epoch   4 Batch  360/538 - Train Accuracy: 0.9652, Validation Accuracy: 0.9561, Loss: 0.0312\n",
      "Epoch   4 Batch  380/538 - Train Accuracy: 0.9764, Validation Accuracy: 0.9545, Loss: 0.0279\n",
      "Epoch   4 Batch  400/538 - Train Accuracy: 0.9684, Validation Accuracy: 0.9661, Loss: 0.0353\n",
      "Epoch   4 Batch  420/538 - Train Accuracy: 0.9592, Validation Accuracy: 0.9583, Loss: 0.0333\n",
      "Epoch   4 Batch  440/538 - Train Accuracy: 0.9676, Validation Accuracy: 0.9688, Loss: 0.0326\n",
      "Epoch   4 Batch  460/538 - Train Accuracy: 0.9660, Validation Accuracy: 0.9595, Loss: 0.0331\n",
      "Epoch   4 Batch  480/538 - Train Accuracy: 0.9784, Validation Accuracy: 0.9608, Loss: 0.0315\n",
      "Epoch   4 Batch  500/538 - Train Accuracy: 0.9819, Validation Accuracy: 0.9661, Loss: 0.0223\n",
      "Epoch   4 Batch  520/538 - Train Accuracy: 0.9684, Validation Accuracy: 0.9604, Loss: 0.0280\n",
      "Epoch   5 Batch   20/538 - Train Accuracy: 0.9747, Validation Accuracy: 0.9682, Loss: 0.0272\n",
      "Epoch   5 Batch   40/538 - Train Accuracy: 0.9734, Validation Accuracy: 0.9631, Loss: 0.0251\n",
      "Epoch   5 Batch   60/538 - Train Accuracy: 0.9686, Validation Accuracy: 0.9510, Loss: 0.0304\n",
      "Epoch   5 Batch   80/538 - Train Accuracy: 0.9654, Validation Accuracy: 0.9570, Loss: 0.0280\n",
      "Epoch   5 Batch  100/538 - Train Accuracy: 0.9773, Validation Accuracy: 0.9590, Loss: 0.0258\n",
      "Epoch   5 Batch  120/538 - Train Accuracy: 0.9820, Validation Accuracy: 0.9608, Loss: 0.0214\n",
      "Epoch   5 Batch  140/538 - Train Accuracy: 0.9688, Validation Accuracy: 0.9593, Loss: 0.0413\n",
      "Epoch   5 Batch  160/538 - Train Accuracy: 0.9682, Validation Accuracy: 0.9672, Loss: 0.0308\n",
      "Epoch   5 Batch  180/538 - Train Accuracy: 0.9628, Validation Accuracy: 0.9625, Loss: 0.0249\n",
      "Epoch   5 Batch  200/538 - Train Accuracy: 0.9770, Validation Accuracy: 0.9574, Loss: 0.0259\n",
      "Epoch   5 Batch  220/538 - Train Accuracy: 0.9503, Validation Accuracy: 0.9611, Loss: 0.0316\n",
      "Epoch   5 Batch  240/538 - Train Accuracy: 0.9561, Validation Accuracy: 0.9663, Loss: 0.0272\n",
      "Epoch   5 Batch  260/538 - Train Accuracy: 0.9444, Validation Accuracy: 0.9437, Loss: 0.0289\n",
      "Epoch   5 Batch  280/538 - Train Accuracy: 0.9723, Validation Accuracy: 0.9668, Loss: 0.0238\n",
      "Epoch   5 Batch  300/538 - Train Accuracy: 0.9714, Validation Accuracy: 0.9716, Loss: 0.0319\n",
      "Epoch   5 Batch  320/538 - Train Accuracy: 0.9728, Validation Accuracy: 0.9645, Loss: 0.0245\n",
      "Epoch   5 Batch  340/538 - Train Accuracy: 0.9537, Validation Accuracy: 0.9780, Loss: 0.0243\n",
      "Epoch   5 Batch  360/538 - Train Accuracy: 0.9709, Validation Accuracy: 0.9636, Loss: 0.0240\n",
      "Epoch   5 Batch  380/538 - Train Accuracy: 0.9801, Validation Accuracy: 0.9670, Loss: 0.0264\n",
      "Epoch   5 Batch  400/538 - Train Accuracy: 0.9673, Validation Accuracy: 0.9716, Loss: 0.0294\n",
      "Epoch   5 Batch  420/538 - Train Accuracy: 0.9643, Validation Accuracy: 0.9611, Loss: 0.0264\n",
      "Epoch   5 Batch  440/538 - Train Accuracy: 0.9762, Validation Accuracy: 0.9735, Loss: 0.0260\n",
      "Epoch   5 Batch  460/538 - Train Accuracy: 0.9676, Validation Accuracy: 0.9670, Loss: 0.0270\n",
      "Epoch   5 Batch  480/538 - Train Accuracy: 0.9818, Validation Accuracy: 0.9579, Loss: 0.0230\n",
      "Epoch   5 Batch  500/538 - Train Accuracy: 0.9775, Validation Accuracy: 0.9563, Loss: 0.0190\n",
      "Epoch   5 Batch  520/538 - Train Accuracy: 0.9693, Validation Accuracy: 0.9611, Loss: 0.0286\n",
      "Epoch   6 Batch   20/538 - Train Accuracy: 0.9704, Validation Accuracy: 0.9727, Loss: 0.0270\n",
      "Epoch   6 Batch   40/538 - Train Accuracy: 0.9716, Validation Accuracy: 0.9695, Loss: 0.0184\n",
      "Epoch   6 Batch   60/538 - Train Accuracy: 0.9787, Validation Accuracy: 0.9703, Loss: 0.0246\n",
      "Epoch   6 Batch   80/538 - Train Accuracy: 0.9826, Validation Accuracy: 0.9682, Loss: 0.0241\n",
      "Epoch   6 Batch  100/538 - Train Accuracy: 0.9807, Validation Accuracy: 0.9645, Loss: 0.0205\n",
      "Epoch   6 Batch  120/538 - Train Accuracy: 0.9807, Validation Accuracy: 0.9622, Loss: 0.0220\n",
      "Epoch   6 Batch  140/538 - Train Accuracy: 0.9576, Validation Accuracy: 0.9577, Loss: 0.0376\n",
      "Epoch   6 Batch  160/538 - Train Accuracy: 0.9691, Validation Accuracy: 0.9643, Loss: 0.0239\n",
      "Epoch   6 Batch  180/538 - Train Accuracy: 0.9773, Validation Accuracy: 0.9634, Loss: 0.0221\n",
      "Epoch   6 Batch  200/538 - Train Accuracy: 0.9805, Validation Accuracy: 0.9638, Loss: 0.0161\n",
      "Epoch   6 Batch  220/538 - Train Accuracy: 0.9596, Validation Accuracy: 0.9565, Loss: 0.0276\n",
      "Epoch   6 Batch  240/538 - Train Accuracy: 0.9639, Validation Accuracy: 0.9663, Loss: 0.0235\n",
      "Epoch   6 Batch  260/538 - Train Accuracy: 0.9572, Validation Accuracy: 0.9668, Loss: 0.0260\n",
      "Epoch   6 Batch  280/538 - Train Accuracy: 0.9799, Validation Accuracy: 0.9652, Loss: 0.0234\n",
      "Epoch   6 Batch  300/538 - Train Accuracy: 0.9799, Validation Accuracy: 0.9711, Loss: 0.0210\n",
      "Epoch   6 Batch  320/538 - Train Accuracy: 0.9851, Validation Accuracy: 0.9730, Loss: 0.0193\n",
      "Epoch   6 Batch  340/538 - Train Accuracy: 0.9740, Validation Accuracy: 0.9624, Loss: 0.0244\n",
      "Epoch   6 Batch  360/538 - Train Accuracy: 0.9617, Validation Accuracy: 0.9702, Loss: 0.0215\n",
      "Epoch   6 Batch  380/538 - Train Accuracy: 0.9799, Validation Accuracy: 0.9707, Loss: 0.0190\n",
      "Epoch   6 Batch  400/538 - Train Accuracy: 0.9775, Validation Accuracy: 0.9716, Loss: 0.0238\n",
      "Epoch   6 Batch  420/538 - Train Accuracy: 0.9750, Validation Accuracy: 0.9734, Loss: 0.0236\n",
      "Epoch   6 Batch  440/538 - Train Accuracy: 0.9793, Validation Accuracy: 0.9702, Loss: 0.0224\n",
      "Epoch   6 Batch  460/538 - Train Accuracy: 0.9719, Validation Accuracy: 0.9746, Loss: 0.0242\n",
      "Epoch   6 Batch  480/538 - Train Accuracy: 0.9887, Validation Accuracy: 0.9755, Loss: 0.0210\n",
      "Epoch   6 Batch  500/538 - Train Accuracy: 0.9862, Validation Accuracy: 0.9723, Loss: 0.0113\n",
      "Epoch   6 Batch  520/538 - Train Accuracy: 0.9723, Validation Accuracy: 0.9727, Loss: 0.0219\n",
      "Epoch   7 Batch   20/538 - Train Accuracy: 0.9862, Validation Accuracy: 0.9767, Loss: 0.0236\n",
      "Epoch   7 Batch   40/538 - Train Accuracy: 0.9846, Validation Accuracy: 0.9748, Loss: 0.0161\n",
      "Epoch   7 Batch   60/538 - Train Accuracy: 0.9791, Validation Accuracy: 0.9638, Loss: 0.0188\n",
      "Epoch   7 Batch   80/538 - Train Accuracy: 0.9818, Validation Accuracy: 0.9670, Loss: 0.0173\n",
      "Epoch   7 Batch  100/538 - Train Accuracy: 0.9854, Validation Accuracy: 0.9723, Loss: 0.0159\n",
      "Epoch   7 Batch  120/538 - Train Accuracy: 0.9863, Validation Accuracy: 0.9755, Loss: 0.0156\n",
      "Epoch   7 Batch  140/538 - Train Accuracy: 0.9711, Validation Accuracy: 0.9695, Loss: 0.0267\n",
      "Epoch   7 Batch  160/538 - Train Accuracy: 0.9775, Validation Accuracy: 0.9668, Loss: 0.0197\n",
      "Epoch   7 Batch  180/538 - Train Accuracy: 0.9717, Validation Accuracy: 0.9656, Loss: 0.0174\n",
      "Epoch   7 Batch  200/538 - Train Accuracy: 0.9850, Validation Accuracy: 0.9693, Loss: 0.0169\n",
      "Epoch   7 Batch  220/538 - Train Accuracy: 0.9676, Validation Accuracy: 0.9625, Loss: 0.0224\n",
      "Epoch   7 Batch  240/538 - Train Accuracy: 0.9666, Validation Accuracy: 0.9716, Loss: 0.0200\n",
      "Epoch   7 Batch  260/538 - Train Accuracy: 0.9608, Validation Accuracy: 0.9698, Loss: 0.0218\n",
      "Epoch   7 Batch  280/538 - Train Accuracy: 0.9779, Validation Accuracy: 0.9679, Loss: 0.0147\n",
      "Epoch   7 Batch  300/538 - Train Accuracy: 0.9820, Validation Accuracy: 0.9714, Loss: 0.0212\n",
      "Epoch   7 Batch  320/538 - Train Accuracy: 0.9777, Validation Accuracy: 0.9746, Loss: 0.0167\n",
      "Epoch   7 Batch  340/538 - Train Accuracy: 0.9734, Validation Accuracy: 0.9698, Loss: 0.0226\n",
      "Epoch   7 Batch  360/538 - Train Accuracy: 0.9742, Validation Accuracy: 0.9734, Loss: 0.0175\n",
      "Epoch   7 Batch  380/538 - Train Accuracy: 0.9814, Validation Accuracy: 0.9750, Loss: 0.0176\n",
      "Epoch   7 Batch  400/538 - Train Accuracy: 0.9769, Validation Accuracy: 0.9773, Loss: 0.0176\n",
      "Epoch   7 Batch  420/538 - Train Accuracy: 0.9742, Validation Accuracy: 0.9750, Loss: 0.0210\n",
      "Epoch   7 Batch  440/538 - Train Accuracy: 0.9863, Validation Accuracy: 0.9719, Loss: 0.0220\n",
      "Epoch   7 Batch  460/538 - Train Accuracy: 0.9728, Validation Accuracy: 0.9769, Loss: 0.0187\n",
      "Epoch   7 Batch  480/538 - Train Accuracy: 0.9874, Validation Accuracy: 0.9789, Loss: 0.0173\n",
      "Epoch   7 Batch  500/538 - Train Accuracy: 0.9838, Validation Accuracy: 0.9714, Loss: 0.0133\n",
      "Epoch   7 Batch  520/538 - Train Accuracy: 0.9805, Validation Accuracy: 0.9737, Loss: 0.0216\n",
      "Epoch   8 Batch   20/538 - Train Accuracy: 0.9773, Validation Accuracy: 0.9735, Loss: 0.0170\n",
      "Epoch   8 Batch   40/538 - Train Accuracy: 0.9844, Validation Accuracy: 0.9727, Loss: 0.0152\n",
      "Epoch   8 Batch   60/538 - Train Accuracy: 0.9736, Validation Accuracy: 0.9693, Loss: 0.0183\n",
      "Epoch   8 Batch   80/538 - Train Accuracy: 0.9797, Validation Accuracy: 0.9679, Loss: 0.0131\n",
      "Epoch   8 Batch  100/538 - Train Accuracy: 0.9850, Validation Accuracy: 0.9743, Loss: 0.0133\n",
      "Epoch   8 Batch  120/538 - Train Accuracy: 0.9809, Validation Accuracy: 0.9783, Loss: 0.0133\n",
      "Epoch   8 Batch  140/538 - Train Accuracy: 0.9666, Validation Accuracy: 0.9716, Loss: 0.0239\n",
      "Epoch   8 Batch  160/538 - Train Accuracy: 0.9805, Validation Accuracy: 0.9737, Loss: 0.0185\n",
      "Epoch   8 Batch  180/538 - Train Accuracy: 0.9766, Validation Accuracy: 0.9672, Loss: 0.0170\n",
      "Epoch   8 Batch  200/538 - Train Accuracy: 0.9863, Validation Accuracy: 0.9760, Loss: 0.0141\n",
      "Epoch   8 Batch  220/538 - Train Accuracy: 0.9756, Validation Accuracy: 0.9737, Loss: 0.0200\n",
      "Epoch   8 Batch  240/538 - Train Accuracy: 0.9791, Validation Accuracy: 0.9757, Loss: 0.0161\n",
      "Epoch   8 Batch  260/538 - Train Accuracy: 0.9678, Validation Accuracy: 0.9702, Loss: 0.0214\n",
      "Epoch   8 Batch  280/538 - Train Accuracy: 0.9801, Validation Accuracy: 0.9769, Loss: 0.0159\n",
      "Epoch   8 Batch  300/538 - Train Accuracy: 0.9851, Validation Accuracy: 0.9705, Loss: 0.0180\n",
      "Epoch   8 Batch  320/538 - Train Accuracy: 0.9781, Validation Accuracy: 0.9776, Loss: 0.0147\n",
      "Epoch   8 Batch  340/538 - Train Accuracy: 0.9832, Validation Accuracy: 0.9734, Loss: 0.0152\n",
      "Epoch   8 Batch  360/538 - Train Accuracy: 0.9738, Validation Accuracy: 0.9735, Loss: 0.0169\n",
      "Epoch   8 Batch  380/538 - Train Accuracy: 0.9848, Validation Accuracy: 0.9670, Loss: 0.0139\n",
      "Epoch   8 Batch  400/538 - Train Accuracy: 0.9743, Validation Accuracy: 0.9707, Loss: 0.0175\n",
      "Epoch   8 Batch  420/538 - Train Accuracy: 0.9826, Validation Accuracy: 0.9675, Loss: 0.0177\n",
      "Epoch   8 Batch  440/538 - Train Accuracy: 0.9902, Validation Accuracy: 0.9734, Loss: 0.0161\n",
      "Epoch   8 Batch  460/538 - Train Accuracy: 0.9847, Validation Accuracy: 0.9780, Loss: 0.0167\n",
      "Epoch   8 Batch  480/538 - Train Accuracy: 0.9901, Validation Accuracy: 0.9771, Loss: 0.0155\n",
      "Epoch   8 Batch  500/538 - Train Accuracy: 0.9879, Validation Accuracy: 0.9751, Loss: 0.0139\n",
      "Epoch   8 Batch  520/538 - Train Accuracy: 0.9783, Validation Accuracy: 0.9767, Loss: 0.0230\n",
      "Epoch   9 Batch   20/538 - Train Accuracy: 0.9797, Validation Accuracy: 0.9824, Loss: 0.0180\n",
      "Epoch   9 Batch   40/538 - Train Accuracy: 0.9822, Validation Accuracy: 0.9723, Loss: 0.0108\n",
      "Epoch   9 Batch   60/538 - Train Accuracy: 0.9811, Validation Accuracy: 0.9799, Loss: 0.0171\n",
      "Epoch   9 Batch   80/538 - Train Accuracy: 0.9877, Validation Accuracy: 0.9801, Loss: 0.0132\n",
      "Epoch   9 Batch  100/538 - Train Accuracy: 0.9861, Validation Accuracy: 0.9808, Loss: 0.0096\n",
      "Epoch   9 Batch  120/538 - Train Accuracy: 0.9957, Validation Accuracy: 0.9812, Loss: 0.0106\n",
      "Epoch   9 Batch  140/538 - Train Accuracy: 0.9762, Validation Accuracy: 0.9727, Loss: 0.0230\n",
      "Epoch   9 Batch  160/538 - Train Accuracy: 0.9760, Validation Accuracy: 0.9753, Loss: 0.0138\n",
      "Epoch   9 Batch  180/538 - Train Accuracy: 0.9741, Validation Accuracy: 0.9771, Loss: 0.0144\n",
      "Epoch   9 Batch  200/538 - Train Accuracy: 0.9820, Validation Accuracy: 0.9819, Loss: 0.0130\n",
      "Epoch   9 Batch  220/538 - Train Accuracy: 0.9754, Validation Accuracy: 0.9757, Loss: 0.0157\n",
      "Epoch   9 Batch  240/538 - Train Accuracy: 0.9764, Validation Accuracy: 0.9778, Loss: 0.0112\n",
      "Epoch   9 Batch  260/538 - Train Accuracy: 0.9661, Validation Accuracy: 0.9682, Loss: 0.0243\n",
      "Epoch   9 Batch  280/538 - Train Accuracy: 0.9846, Validation Accuracy: 0.9705, Loss: 0.0123\n",
      "Epoch   9 Batch  300/538 - Train Accuracy: 0.9833, Validation Accuracy: 0.9743, Loss: 0.0154\n",
      "Epoch   9 Batch  320/538 - Train Accuracy: 0.9820, Validation Accuracy: 0.9782, Loss: 0.0108\n",
      "Epoch   9 Batch  340/538 - Train Accuracy: 0.9832, Validation Accuracy: 0.9783, Loss: 0.0146\n",
      "Epoch   9 Batch  360/538 - Train Accuracy: 0.9854, Validation Accuracy: 0.9778, Loss: 0.0159\n",
      "Epoch   9 Batch  380/538 - Train Accuracy: 0.9924, Validation Accuracy: 0.9787, Loss: 0.0118\n",
      "Epoch   9 Batch  400/538 - Train Accuracy: 0.9864, Validation Accuracy: 0.9737, Loss: 0.0182\n",
      "Epoch   9 Batch  420/538 - Train Accuracy: 0.9791, Validation Accuracy: 0.9737, Loss: 0.0171\n",
      "Epoch   9 Batch  440/538 - Train Accuracy: 0.9855, Validation Accuracy: 0.9819, Loss: 0.0170\n",
      "Epoch   9 Batch  460/538 - Train Accuracy: 0.9801, Validation Accuracy: 0.9739, Loss: 0.0155\n",
      "Epoch   9 Batch  480/538 - Train Accuracy: 0.9879, Validation Accuracy: 0.9766, Loss: 0.0129\n",
      "Epoch   9 Batch  500/538 - Train Accuracy: 0.9863, Validation Accuracy: 0.9801, Loss: 0.0105\n",
      "Epoch   9 Batch  520/538 - Train Accuracy: 0.9766, Validation Accuracy: 0.9764, Loss: 0.0158\n",
      "Model Trained and Saved\n"
     ]
    }
   ],
   "source": [
    "\"\"\"\n",
    "DON'T MODIFY ANYTHING IN THIS CELL\n",
    "\"\"\"\n",
    "def get_accuracy(target, logits):\n",
    "    \"\"\"\n",
    "    Calculate accuracy\n",
    "    \"\"\"\n",
    "    max_seq = max(target.shape[1], logits.shape[1])\n",
    "    if max_seq - target.shape[1]:\n",
    "        target = np.pad(\n",
    "            target,\n",
    "            [(0,0),(0,max_seq - target.shape[1])],\n",
    "            'constant')\n",
    "    if max_seq - logits.shape[1]:\n",
    "        logits = np.pad(\n",
    "            logits,\n",
    "            [(0,0),(0,max_seq - logits.shape[1])],\n",
    "            'constant')\n",
    "\n",
    "    return np.mean(np.equal(target, logits))\n",
    "\n",
    "# Split data to training and validation sets\n",
    "train_source = source_int_text[batch_size:]\n",
    "train_target = target_int_text[batch_size:]\n",
    "valid_source = source_int_text[:batch_size]\n",
    "valid_target = target_int_text[:batch_size]\n",
    "(valid_sources_batch, valid_targets_batch, valid_sources_lengths, valid_targets_lengths ) = next(get_batches(valid_source,\n",
    "                                                                                                             valid_target,\n",
    "                                                                                                             batch_size,\n",
    "                                                                                                             source_vocab_to_int['<PAD>'],\n",
    "                                                                                                             target_vocab_to_int['<PAD>']))                                                                                                  \n",
    "with tf.Session(graph=train_graph) as sess:\n",
    "    sess.run(tf.global_variables_initializer())\n",
    "\n",
    "    for epoch_i in range(epochs):\n",
    "        for batch_i, (source_batch, target_batch, sources_lengths, targets_lengths) in enumerate(\n",
    "                get_batches(train_source, train_target, batch_size,\n",
    "                            source_vocab_to_int['<PAD>'],\n",
    "                            target_vocab_to_int['<PAD>'])):\n",
    "\n",
    "            _, loss = sess.run(\n",
    "                [train_op, cost],\n",
    "                {input_data: source_batch,\n",
    "                 targets: target_batch,\n",
    "                 lr: learning_rate,\n",
    "                 target_sequence_length: targets_lengths,\n",
    "                 source_sequence_length: sources_lengths,\n",
    "                 keep_prob: keep_probability})\n",
    "\n",
    "\n",
    "            if batch_i % display_step == 0 and batch_i > 0:\n",
    "\n",
    "\n",
    "                batch_train_logits = sess.run(\n",
    "                    inference_logits,\n",
    "                    {input_data: source_batch,\n",
    "                     source_sequence_length: sources_lengths,\n",
    "                     target_sequence_length: targets_lengths,\n",
    "                     keep_prob: 1.0})\n",
    "\n",
    "\n",
    "                batch_valid_logits = sess.run(\n",
    "                    inference_logits,\n",
    "                    {input_data: valid_sources_batch,\n",
    "                     source_sequence_length: valid_sources_lengths,\n",
    "                     target_sequence_length: valid_targets_lengths,\n",
    "                     keep_prob: 1.0})\n",
    "\n",
    "                train_acc = get_accuracy(target_batch, batch_train_logits)\n",
    "\n",
    "                valid_acc = get_accuracy(valid_targets_batch, batch_valid_logits)\n",
    "\n",
    "                print('Epoch {:>3} Batch {:>4}/{} - Train Accuracy: {:>6.4f}, Validation Accuracy: {:>6.4f}, Loss: {:>6.4f}'\n",
    "                      .format(epoch_i, batch_i, len(source_int_text) // batch_size, train_acc, valid_acc, loss))\n",
    "\n",
    "    # Save Model\n",
    "    saver = tf.train.Saver()\n",
    "    saver.save(sess, save_path)\n",
    "    print('Model Trained and Saved')"
   ]
  },
  {
   "cell_type": "markdown",
   "metadata": {
    "deletable": true,
    "editable": true
   },
   "source": [
    "### Save Parameters\n",
    "Save the `batch_size` and `save_path` parameters for inference."
   ]
  },
  {
   "cell_type": "code",
   "execution_count": 18,
   "metadata": {
    "collapsed": true,
    "deletable": true,
    "editable": true
   },
   "outputs": [],
   "source": [
    "\"\"\"\n",
    "DON'T MODIFY ANYTHING IN THIS CELL\n",
    "\"\"\"\n",
    "# Save parameters for checkpoint\n",
    "helper.save_params(save_path)"
   ]
  },
  {
   "cell_type": "markdown",
   "metadata": {
    "deletable": true,
    "editable": true
   },
   "source": [
    "# Checkpoint"
   ]
  },
  {
   "cell_type": "code",
   "execution_count": 19,
   "metadata": {
    "collapsed": true,
    "deletable": true,
    "editable": true
   },
   "outputs": [],
   "source": [
    "\"\"\"\n",
    "DON'T MODIFY ANYTHING IN THIS CELL\n",
    "\"\"\"\n",
    "import tensorflow as tf\n",
    "import numpy as np\n",
    "import helper\n",
    "import problem_unittests as tests\n",
    "\n",
    "_, (source_vocab_to_int, target_vocab_to_int), (source_int_to_vocab, target_int_to_vocab) = helper.load_preprocess()\n",
    "load_path = helper.load_params()"
   ]
  },
  {
   "cell_type": "markdown",
   "metadata": {
    "deletable": true,
    "editable": true
   },
   "source": [
    "## Sentence to Sequence\n",
    "To feed a sentence into the model for translation, you first need to preprocess it.  Implement the function `sentence_to_seq()` to preprocess new sentences.\n",
    "\n",
    "- Convert the sentence to lowercase\n",
    "- Convert words into ids using `vocab_to_int`\n",
    " - Convert words not in the vocabulary, to the `<UNK>` word id."
   ]
  },
  {
   "cell_type": "code",
   "execution_count": 21,
   "metadata": {
    "collapsed": false,
    "deletable": true,
    "editable": true
   },
   "outputs": [
    {
     "name": "stdout",
     "output_type": "stream",
     "text": [
      "Tests Passed\n"
     ]
    }
   ],
   "source": [
    "def sentence_to_seq(sentence, vocab_to_int):\n",
    "    \"\"\"\n",
    "    Convert a sentence to a sequence of ids\n",
    "    :param sentence: String\n",
    "    :param vocab_to_int: Dictionary to go from the words to an id\n",
    "    :return: List of word ids\n",
    "    \"\"\"\n",
    "    # TODO: Implement Function\n",
    "    unknown_id = vocab_to_int['<UNK>']\n",
    "    word_id_list = [\n",
    "        vocab_to_int.get(word, unknown_id) for word in sentence.lower().split()\n",
    "    ]\n",
    "        \n",
    "    return word_id_list\n",
    "\n",
    "\n",
    "\"\"\"\n",
    "DON'T MODIFY ANYTHING IN THIS CELL THAT IS BELOW THIS LINE\n",
    "\"\"\"\n",
    "tests.test_sentence_to_seq(sentence_to_seq)"
   ]
  },
  {
   "cell_type": "markdown",
   "metadata": {
    "deletable": true,
    "editable": true
   },
   "source": [
    "## Translate\n",
    "This will translate `translate_sentence` from English to French."
   ]
  },
  {
   "cell_type": "code",
   "execution_count": 22,
   "metadata": {
    "collapsed": false,
    "deletable": true,
    "editable": true
   },
   "outputs": [
    {
     "name": "stdout",
     "output_type": "stream",
     "text": [
      "INFO:tensorflow:Restoring parameters from checkpoints/dev\n",
      "Input\n",
      "  Word Ids:      [107, 144, 91, 203, 85, 186, 4]\n",
      "  English Words: ['he', 'saw', 'a', 'old', 'yellow', 'truck', '.']\n",
      "\n",
      "Prediction\n",
      "  Word Ids:      [332, 36, 108, 169, 97, 320, 335, 4, 1]\n",
      "  French Words: il a vu un jaune rouillé automobile . <EOS>\n"
     ]
    }
   ],
   "source": [
    "translate_sentence = 'he saw a old yellow truck .'\n",
    "\n",
    "\n",
    "\"\"\"\n",
    "DON'T MODIFY ANYTHING IN THIS CELL\n",
    "\"\"\"\n",
    "translate_sentence = sentence_to_seq(translate_sentence, source_vocab_to_int)\n",
    "\n",
    "loaded_graph = tf.Graph()\n",
    "with tf.Session(graph=loaded_graph) as sess:\n",
    "    # Load saved model\n",
    "    loader = tf.train.import_meta_graph(load_path + '.meta')\n",
    "    loader.restore(sess, load_path)\n",
    "\n",
    "    input_data = loaded_graph.get_tensor_by_name('input:0')\n",
    "    logits = loaded_graph.get_tensor_by_name('predictions:0')\n",
    "    target_sequence_length = loaded_graph.get_tensor_by_name('target_sequence_length:0')\n",
    "    source_sequence_length = loaded_graph.get_tensor_by_name('source_sequence_length:0')\n",
    "    keep_prob = loaded_graph.get_tensor_by_name('keep_prob:0')\n",
    "\n",
    "    translate_logits = sess.run(logits, {input_data: [translate_sentence]*batch_size,\n",
    "                                         target_sequence_length: [len(translate_sentence)*2]*batch_size,\n",
    "                                         source_sequence_length: [len(translate_sentence)]*batch_size,\n",
    "                                         keep_prob: 1.0})[0]\n",
    "\n",
    "print('Input')\n",
    "print('  Word Ids:      {}'.format([i for i in translate_sentence]))\n",
    "print('  English Words: {}'.format([source_int_to_vocab[i] for i in translate_sentence]))\n",
    "\n",
    "print('\\nPrediction')\n",
    "print('  Word Ids:      {}'.format([i for i in translate_logits]))\n",
    "print('  French Words: {}'.format(\" \".join([target_int_to_vocab[i] for i in translate_logits])))\n"
   ]
  },
  {
   "cell_type": "markdown",
   "metadata": {
    "deletable": true,
    "editable": true
   },
   "source": [
    "## Imperfect Translation\n",
    "You might notice that some sentences translate better than others.  Since the dataset you're using only has a vocabulary of 227 English words of the thousands that you use, you're only going to see good results using these words.  For this project, you don't need a perfect translation. However, if you want to create a better translation model, you'll need better data.\n",
    "\n",
    "You can train on the [WMT10 French-English corpus](http://www.statmt.org/wmt10/training-giga-fren.tar).  This dataset has more vocabulary and richer in topics discussed.  However, this will take you days to train, so make sure you've a GPU and the neural network is performing well on dataset we provided.  Just make sure you play with the WMT10 corpus after you've submitted this project.\n",
    "## Submitting This Project\n",
    "When submitting this project, make sure to run all the cells before saving the notebook. Save the notebook file as \"dlnd_language_translation.ipynb\" and save it as a HTML file under \"File\" -> \"Download as\". Include the \"helper.py\" and \"problem_unittests.py\" files in your submission."
   ]
  }
 ],
 "metadata": {
  "anaconda-cloud": {},
  "kernelspec": {
   "display_name": "Python 3",
   "language": "python",
   "name": "python3"
  },
  "language_info": {
   "codemirror_mode": {
    "name": "ipython",
    "version": 3
   },
   "file_extension": ".py",
   "mimetype": "text/x-python",
   "name": "python",
   "nbconvert_exporter": "python",
   "pygments_lexer": "ipython3",
   "version": "3.5.2"
  }
 },
 "nbformat": 4,
 "nbformat_minor": 1
}
